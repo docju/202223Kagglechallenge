{
 "cells": [
  {
   "cell_type": "markdown",
   "id": "9118dcb5",
   "metadata": {
    "pycharm": {
     "name": "#%% md\n"
    }
   },
   "source": [
    "# DSC | TMATM - Starter script -  LGBM Classifier"
   ]
  },
  {
   "cell_type": "code",
   "execution_count": 1,
   "id": "258faa46",
   "metadata": {
    "pycharm": {
     "name": "#%%\n"
    }
   },
   "outputs": [],
   "source": [
    "import pandas as pd\n",
    "import numpy as np\n",
    "import lightgbm as lgb\n",
    "from sklearn.model_selection import train_test_split\n",
    "from sklearn.metrics import recall_score"
   ]
  },
  {
   "cell_type": "code",
   "execution_count": 2,
   "id": "3e14373e",
   "metadata": {
    "pycharm": {
     "name": "#%%\n"
    }
   },
   "outputs": [],
   "source": [
    "pd.set_option(\"display.max_rows\",100)\n",
    "pd.set_option(\"display.max_columns\",100)"
   ]
  },
  {
   "cell_type": "markdown",
   "id": "2d53c6b7",
   "metadata": {
    "pycharm": {
     "name": "#%% md\n"
    }
   },
   "source": [
    "## Parameters"
   ]
  },
  {
   "cell_type": "code",
   "execution_count": 3,
   "id": "9f389f83",
   "metadata": {
    "pycharm": {
     "name": "#%%\n"
    }
   },
   "outputs": [],
   "source": [
    "SEED = 42"
   ]
  },
  {
   "cell_type": "markdown",
   "id": "d7d3d1f5",
   "metadata": {
    "pycharm": {
     "name": "#%% md\n"
    }
   },
   "source": [
    "## Read data"
   ]
  },
  {
   "cell_type": "code",
   "execution_count": 4,
   "id": "441d76a7",
   "metadata": {
    "pycharm": {
     "name": "#%%\n"
    }
   },
   "outputs": [],
   "source": [
    "train = pd.read_csv(\"train.csv\")\n",
    "test = pd.read_csv(\"X_test.csv\")"
   ]
  },
  {
   "cell_type": "code",
   "execution_count": 5,
   "outputs": [
    {
     "data": {
      "text/plain": "   alert_id  true_alert  prties_prev_true_alerts_pct  prties_prev_true_alerts  \\\n0     24833           1                          0.0                        0   \n1      5983           0                          0.0                        0   \n2     17447           0                          0.0                        0   \n3     29964           1                          1.0                       10   \n4     10883           0                          0.0                        0   \n\n   prev_alerts  prties_prev_alerts  \\\n0            0                   0   \n1            1                   1   \n2            0                   0   \n3           10                  10   \n4           60                  60   \n\n   agrmnt_opposite_agrmnt_distinct_count_1d_sum_1m_avg_v1  \\\n0                                           0.250000        \n1                                           1.266667        \n2                                           2.285714        \n3                                           6.150000        \n4                                          77.190476        \n\n   prev_true_alerts_pct  \\\n0                   0.0   \n1                   0.0   \n2                   0.0   \n3                   1.0   \n4                   0.0   \n\n   agrmnt_opposite_agrmnt_distinct_count_1m_sum_6m_stddev_v1  \\\n0                                           0.000000           \n1                                           1.966384           \n2                                           3.076795           \n3                                           3.932768           \n4                                          98.909386           \n\n   prev_true_alerts  agrmnt_opposite_agrmnt_distinct_count_1m_sum_v1  \\\n0                 0                                              1.0   \n1                 0                                             10.0   \n2                 0                                             14.0   \n3                10                                             48.0   \n4                 0                                            529.0   \n\n   agrmnt_opposite_agrmnt_distinct_count_1m_sum_6m_max_v1  \\\n0                                                  1        \n1                                                 14        \n2                                                 17        \n3                                                 48        \n4                                                529        \n\n   all_prtys_first_contact_age_days_min_v1  \\\n0                                   5417.0   \n1                                   4194.0   \n2                                   3216.0   \n3                                   3417.0   \n4                                   1841.0   \n\n   all_prtys_first_contact_age_days_max_v1  \\\n0                                   5417.0   \n1                                   4194.0   \n2                                   3216.0   \n3                                   3417.0   \n4                                   1841.0   \n\n   agrmnt_opposite_agrmnt_distinct_count_1d_sum_5d_max_v1  \\\n0                                                0.0        \n1                                                5.0        \n2                                                6.0        \n3                                               16.0        \n4                                              361.0        \n\n   agrmnt_count_credit_transfer_1d_sum_1m_avg_v1  \\\n0                                       1.000000   \n1                                       1.285714   \n2                                       3.894737   \n3                                       4.882353   \n4                                       8.761905   \n\n   all_prtys_all_accounts_count_v1  \\\n0                              4.0   \n1                              4.0   \n2                              9.0   \n3                              3.0   \n4                              1.0   \n\n   agrmnt_opposite_agrmnt_count_1d_sum_1m_stddev_v1  \\\n0                                          0.500000   \n1                                          1.298351   \n2                                          3.853261   \n3                                          8.214877   \n4                                        173.494353   \n\n   all_prtys_first_contact_age_days_avg_v1  \\\n0                                   5417.0   \n1                                   4194.0   \n2                                   3216.0   \n3                                   3417.0   \n4                                   1841.0   \n\n   agrmnt_opposite_agrmnt_distinct_count_1d_sum_1m_stddev_v1  \\\n0                                           0.500000           \n1                                           1.222799           \n2                                           1.874643           \n3                                           4.145702           \n4                                         131.782252           \n\n   all_prtys_special_credit_code_start_encode_ratio_v1_n  \\\n0                                                1.0       \n1                                                1.0       \n2                                                1.0       \n3                                                1.0       \n4                                                1.0       \n\n   all_prtys_status_code_encode_ratio_v1_other  \\\n0                                          0.0   \n1                                          0.0   \n2                                          0.0   \n3                                          0.0   \n4                                          1.0   \n\n   agrmnt_count_debit_1m_sum_6m_max_v1  agrmnt_count_debit_1m_sum_6m_sum_v1  \\\n0                                  NaN                                  NaN   \n1                                 82.0                                405.0   \n2                                164.0                                416.0   \n3                                518.0                               2715.0   \n4                               1792.0                               6790.0   \n\n   agrmnt_product_id_v1  \\\n0               1173342   \n1               1175328   \n2               1175011   \n3               1172385   \n4               1171202   \n\n   agrmnt_opposite_agrmnt_distinct_count_1m_sum_6m_sum_v1  \\\n0                                                  3        \n1                                                 74        \n2                                                 74        \n3                                                248        \n4                                               2434        \n\n   agrmnt_count_debit_point_of_sale_1d_sum_5d_max_v1  \\\n0                                                NaN   \n1                                                1.0   \n2                                               13.0   \n3                                               16.0   \n4                                                NaN   \n\n   all_prtys_employment_status_type_code_encode_ratio_v1_sem  \\\n0                                                0.0           \n1                                                0.0           \n2                                                1.0           \n3                                                0.0           \n4                                                0.0           \n\n   agrmnt_opposite_agrmnt_count_1m_sum_6m_stddev_v1  \\\n0                                          0.000000   \n1                                          3.430258   \n2                                         33.326666   \n3                                         33.271109   \n4                                        488.542902   \n\n   agrmnt_count_credit_1d_sum_1m_stddev_v1  \\\n0                                 0.000000   \n1                                 0.534522   \n2                                 2.514287   \n3                                 3.566822   \n4                                 4.085398   \n\n   agrmnt_count_debit_regular_1m_sum_6m_avg_v1  agrmnt_street_address_id_v1  \\\n0                                          NaN                  211332229.0   \n1                                     6.333333                  140858802.0   \n2                                     1.000000                  302347111.0   \n3                                    21.666667                  279900052.0   \n4                                     2.166667                  135754830.0   \n\n   agrmnt_count_credit_transfer_1m_sum_6m_avg_v1  \\\n0                                       1.000000   \n1                                       8.333333   \n2                                      30.000000   \n3                                      71.500000   \n4                                     140.666667   \n\n   agrmnt_count_debit_transfer_1m_sum_6m_stddev_v1  \\\n0                                              NaN   \n1                                         3.794733   \n2                                         9.772410   \n3                                        33.350662   \n4                                       460.232405   \n\n   all_prtys_status_classification_code_encode_ratio_v1_other  \\\n0                                                0.0            \n1                                                0.0            \n2                                                0.0            \n3                                                0.0            \n4                                                1.0            \n\n   agrmnt_count_credit_transfer_1m_sum_6m_stddev_v1  \\\n0                                          0.000000   \n1                                          1.966384   \n2                                         24.681977   \n3                                         17.896927   \n4                                         32.684349   \n\n   agrmnt_count_debit_transfer_1m_sum_6m_min_v1  \\\n0                                           NaN   \n1                                           5.0   \n2                                           4.0   \n3                                          43.0   \n4                                         736.0   \n\n   agrmnt_count_debit_regular_1d_sum_1m_stddev_v1  \\\n0                                             NaN   \n1                                        0.447214   \n2                                             NaN   \n3                                        2.540779   \n4                                             NaN   \n\n   agrmnt_count_credit_1m_sum_6m_stddev_v1  \\\n0                                 1.527525   \n1                                 2.073644   \n2                                24.681977   \n3                                20.539393   \n4                                32.684349   \n\n   agrmnt_count_credit_1m_sum_6m_avg_v1  \\\n0                              2.333333   \n1                              8.500000   \n2                             30.000000   \n3                            115.333333   \n4                            140.666667   \n\n   agrmnt_count_credit_transfer_1m_sum_6m_max_v1  \\\n0                                            1.0   \n1                                           12.0   \n2                                           74.0   \n3                                           86.0   \n4                                          184.0   \n\n  all_prtys_ledger_balance_debit_accounts_1m_avg_v1_sanitised  \\\n0                             (-67606.448, -19600.0]            \n1                                 (-59.299, 445.263]            \n2                               (-633.415, -282.018]            \n3                             (-7028.635, -2987.964]            \n4                        (-1409456.615, -459356.431]            \n\n  agrmnt_amount_credit_1m_sum_v1_sanitised  \\\n0                   (10674.762, 14557.404]   \n1                   (10674.762, 14557.404]   \n2                   (10674.762, 14557.404]   \n3                   (10674.762, 14557.404]   \n4                (713848.701, 3559919.237]   \n\n  all_prtys_ledger_balance_debit_accounts_1m_max_v1_sanitised  \\\n0                            (-33696.221, -6551.256]            \n1                                (592.339, 2220.245]            \n2                                  (-27.674, -0.937]            \n3                             (-6551.256, -1224.922]            \n4                     (-124531672.501, -1019418.352]            \n\n  all_prtys_ledger_balance_debit_accounts_1m_stddev_v1_sanitised  \\\n0                                (3061.09, 6053.903]               \n1                                  (383.28, 663.862]               \n2                                (663.862, 1091.508]               \n3                                (663.862, 1091.508]               \n4                            (17208.664, 125237.569]               \n\n  all_prtys_ledger_balance_debit_accounts_1m_min_v1_sanitised  \\\n0                              (-35674.59, -15677.9]            \n1                             (-2457.414, -1265.438]            \n2                             (-4493.468, -2457.414]            \n3                             (-8129.495, -4493.468]            \n4                        (-2213861.391, -824788.419]            \n\n  agrmnt_amount_debit_1d_sum_1m_avg_v1_sanitised  \\\n0                                            NaN   \n1                             (618.571, 850.934]   \n2                             (618.571, 850.934]   \n3                             (618.571, 850.934]   \n4                        (55399.136, 194126.553]   \n\n  agrmnt_amount_credit_transfer_1m_sum_6m_stddev_v1_sanitised  \\\n0                               (5476.364, 8732.697]            \n1                               (3608.546, 5476.364]            \n2                               (3608.546, 5476.364]            \n3                               (2395.549, 3608.546]            \n4                           (244956.856, 638776.402]            \n\n  agrmnt_amount_debit_cash_1m_sum_6m_avg_v1_sanitised  \\\n0                                                NaN    \n1                               (1924.217, 2878.414]    \n2                                (866.667, 1305.488]    \n3                               (1924.217, 2878.414]    \n4                                                NaN    \n\n  agrmnt_amount_credit_transfer_1m_sum_v1_sanitised  \\\n0                     (0.009000000000000001, 919.6]   \n1                              (9630.384, 14007.72]   \n2                             (14007.72, 21485.234]   \n3                              (9630.384, 14007.72]   \n4                           (723701.28, 3529667.09]   \n\n  agrmnt_amount_debit_1d_sum_1m_max_v1_sanitised  \\\n0                                            NaN   \n1                           (2252.104, 3240.038]   \n2                            (3240.038, 4788.98]   \n3                           (1512.564, 2252.104]   \n4                      (256798.601, 1135769.288]   \n\n  agrmnt_amount_debit_cash_1m_sum_6m_stddev_v1_sanitised  \\\n0                                                NaN       \n1                               (3833.005, 7290.463]       \n2                                (987.262, 1508.849]       \n3                                 (652.975, 987.262]       \n4                                                NaN       \n\n  agrmnt_amount_credit_transfer_1d_sum_1m_min_v1_sanitised  \\\n0                                   (392.35, 1047.1]         \n1                                   (392.35, 1047.1]         \n2                                     (25.0, 46.718]         \n3                                      (8.0, 15.504]         \n4                              (7326.006, 21709.234]         \n\n  agrmnt_amount_debit_regular_1m_sum_6m_sum_v1_sanitised  \\\n0                                                NaN       \n1                                 (1257.01, 2242.39]       \n2                      (0.009000000000000001, 55.75]       \n3                                 (4047.37, 8146.56]       \n4                         (1264564.092, 163869165.8]       \n\n  agrmnt_amount_credit_transfer_1d_sum_1m_stddev_v1_sanitised  \\\n0                                                NaN            \n1                                 (327.204, 513.688]            \n2                                 (778.622, 1224.87]            \n3                                 (513.688, 778.622]            \n4                             (11954.183, 77113.165]            \n\n  agrmnt_amount_credit_1m_sum_6m_stddev_v1_sanitised  \\\n0                               (5385.229, 7687.567]   \n1                               (3775.737, 5385.229]   \n2                               (3775.737, 5385.229]   \n3                               (3775.737, 5385.229]   \n4                           (251112.472, 703834.208]   \n\n  agrmnt_ledger_balance_1m_stddev_v1_sanitised  \\\n0                         (4217.64, 10567.478]   \n1                           (269.004, 478.453]   \n2                           (128.163, 269.004]   \n3                           (478.453, 819.669]   \n4                      (76295.427, 308651.251]   \n\n  agrmnt_amount_credit_transfer_1d_sum_1m_max_v1_sanitised  \\\n0                                   (350.551, 600.0]         \n1                                  (1767.52, 2600.0]         \n2                                 (4020.0, 6535.412]         \n3                                  (1767.52, 2600.0]         \n4                              (34992.4, 249144.468]         \n\n  agrmnt_amount_debit_1d_sum_5d_max_v1_sanitised  \\\n0                                            NaN   \n1                           (1185.172, 1720.325]   \n2                           (1185.172, 1720.325]   \n3                           (1720.325, 2576.906]   \n4                        (78687.679, 408446.295]   \n\n  agrmnt_amount_debit_transfer_1m_sum_v1_sanitised  \\\n0                                              NaN   \n1                                  (360.0, 1000.0]   \n2                                (6700.0, 10212.5]   \n3                               (4338.578, 6700.0]   \n4                        (653088.074, 3549824.541]   \n\n  agrmnt_amount_credit_cash_1m_sum_6m_sum_v1_sanitised  \\\n0                                (9032.5, 15553.208]     \n1                                                NaN     \n2                                                NaN     \n3                                 (1935.09, 4854.03]     \n4                                                NaN     \n\n  agrmnt_amount_debit_transfer_1d_sum_1m_stddev_v1_sanitised  \\\n0                                                NaN           \n1                                  (70.338, 133.947]           \n2                                (603.084, 1011.531]           \n3                                 (133.947, 258.852]           \n4                            (105105.807, 345028.74]           \n\n  agrmnt_amount_credit_1m_sum_6m_min_v1_sanitised  \\\n0                             (393.561, 1017.634]   \n1                            (1712.974, 2548.634]   \n2                            (1017.634, 1712.974]   \n3                             (8715.792, 19469.3]   \n4                       (324988.037, 2510957.955]   \n\n  agrmnt_amount_debit_transfer_1d_sum_1m_min_v1_sanitised  \\\n0                                                NaN        \n1                                       (15.0, 23.1]        \n2                                        (5.0, 10.0]        \n3                                       (15.0, 23.1]        \n4                                    (400.0, 1600.0]        \n\n  agrmnt_amount_credit_1d_sum_1m_avg_v1_sanitised  \\\n0                            (2723.944, 4754.962]   \n1                            (1207.001, 1770.799]   \n2                              (564.204, 833.826]   \n3                              (564.204, 833.826]   \n4                         (62976.836, 187536.788]   \n\n  agrmnt_amount_debit_cash_1m_sum_6m_max_v1_sanitised  \\\n0                                                NaN    \n1                                 (10210.0, 19000.0]    \n2                                  (2725.0, 4093.96]    \n3                                  (2725.0, 4093.96]    \n4                                                NaN    \n\n  agrmnt_amount_debit_regular_1m_sum_6m_max_v1_sanitised  \\\n0                                                NaN       \n1                                    (350.9, 586.13]       \n2                      (0.009000000000000001, 23.75]       \n3                                 (1038.44, 2097.95]       \n4                           (314148.62, 39104610.99]       \n\n  agrmnt_amount_credit_transfer_1d_sum_1m_avg_v1_sanitised  \\\n0                                  (374.664, 568.89]         \n1                               (1312.907, 2204.346]         \n2                                  (568.89, 852.503]         \n3                                  (568.89, 852.503]         \n4                            (65718.202, 187930.756]         \n\n  agrmnt_amount_debit_regular_1d_sum_5d_max_v1_sanitised  \\\n0                                                NaN       \n1                                       (34.9, 59.0]       \n2                                                NaN       \n3                                   (337.41, 650.05]       \n4                                                NaN       \n\n  agrmnt_amount_debit_point_of_sale_1d_sum_1m_stddev_v1_sanitised  \\\n0                                                NaN                \n1                                   (18.415, 34.347]                \n2                                 (167.992, 245.052]                \n3                                 (245.052, 349.666]                \n4                                                NaN                \n\n  agrmnt_amount_credit_1d_sum_1m_max_v1_sanitised  \\\n0                                (5500.0, 8610.0]   \n1                            (1834.274, 2655.411]   \n2                                (3900.0, 5500.0]   \n3                              (2655.411, 3900.0]   \n4                           (37000.0, 241086.097]   \n\n  agrmnt_amount_credit_transfer_1m_sum_6m_max_v1_sanitised  \\\n0                               (8296.11, 12021.008]         \n1                               (8296.11, 12021.008]         \n2                              (12021.008, 17634.18]         \n3                               (17634.18, 27149.27]         \n4                          (931406.439, 4432141.033]         \n\n  agrmnt_amount_debit_transfer_1d_sum_1m_max_v1_sanitised  \\\n0                                                NaN        \n1                      (0.009000000000000001, 200.0]        \n2                                (3191.18, 5097.144]        \n3                                (805.252, 1218.878]        \n4                          (300031.839, 1177714.641]        \n\n  agrmnt_amount_credit_charge_or_interest_1m_sum_6m_sum_v1_sanitised  \\\n0                                      (3.16, 14.24]                   \n1                                                NaN                   \n2                                                NaN                   \n3                                                NaN                   \n4                                                NaN                   \n\n  agrmnt_ledger_balance_1m_max_v1_sanitised  \n0                   (-65215.153, -6538.052]  \n1                          (56.67, 1212.29]  \n2                              (-2.32, 0.0]  \n3                      (-6538.052, -1000.0]  \n4               (-30052300.001, -313321.22]  ",
      "text/html": "<div>\n<style scoped>\n    .dataframe tbody tr th:only-of-type {\n        vertical-align: middle;\n    }\n\n    .dataframe tbody tr th {\n        vertical-align: top;\n    }\n\n    .dataframe thead th {\n        text-align: right;\n    }\n</style>\n<table border=\"1\" class=\"dataframe\">\n  <thead>\n    <tr style=\"text-align: right;\">\n      <th></th>\n      <th>alert_id</th>\n      <th>true_alert</th>\n      <th>prties_prev_true_alerts_pct</th>\n      <th>prties_prev_true_alerts</th>\n      <th>prev_alerts</th>\n      <th>prties_prev_alerts</th>\n      <th>agrmnt_opposite_agrmnt_distinct_count_1d_sum_1m_avg_v1</th>\n      <th>prev_true_alerts_pct</th>\n      <th>agrmnt_opposite_agrmnt_distinct_count_1m_sum_6m_stddev_v1</th>\n      <th>prev_true_alerts</th>\n      <th>agrmnt_opposite_agrmnt_distinct_count_1m_sum_v1</th>\n      <th>agrmnt_opposite_agrmnt_distinct_count_1m_sum_6m_max_v1</th>\n      <th>all_prtys_first_contact_age_days_min_v1</th>\n      <th>all_prtys_first_contact_age_days_max_v1</th>\n      <th>agrmnt_opposite_agrmnt_distinct_count_1d_sum_5d_max_v1</th>\n      <th>agrmnt_count_credit_transfer_1d_sum_1m_avg_v1</th>\n      <th>all_prtys_all_accounts_count_v1</th>\n      <th>agrmnt_opposite_agrmnt_count_1d_sum_1m_stddev_v1</th>\n      <th>all_prtys_first_contact_age_days_avg_v1</th>\n      <th>agrmnt_opposite_agrmnt_distinct_count_1d_sum_1m_stddev_v1</th>\n      <th>all_prtys_special_credit_code_start_encode_ratio_v1_n</th>\n      <th>all_prtys_status_code_encode_ratio_v1_other</th>\n      <th>agrmnt_count_debit_1m_sum_6m_max_v1</th>\n      <th>agrmnt_count_debit_1m_sum_6m_sum_v1</th>\n      <th>agrmnt_product_id_v1</th>\n      <th>agrmnt_opposite_agrmnt_distinct_count_1m_sum_6m_sum_v1</th>\n      <th>agrmnt_count_debit_point_of_sale_1d_sum_5d_max_v1</th>\n      <th>all_prtys_employment_status_type_code_encode_ratio_v1_sem</th>\n      <th>agrmnt_opposite_agrmnt_count_1m_sum_6m_stddev_v1</th>\n      <th>agrmnt_count_credit_1d_sum_1m_stddev_v1</th>\n      <th>agrmnt_count_debit_regular_1m_sum_6m_avg_v1</th>\n      <th>agrmnt_street_address_id_v1</th>\n      <th>agrmnt_count_credit_transfer_1m_sum_6m_avg_v1</th>\n      <th>agrmnt_count_debit_transfer_1m_sum_6m_stddev_v1</th>\n      <th>all_prtys_status_classification_code_encode_ratio_v1_other</th>\n      <th>agrmnt_count_credit_transfer_1m_sum_6m_stddev_v1</th>\n      <th>agrmnt_count_debit_transfer_1m_sum_6m_min_v1</th>\n      <th>agrmnt_count_debit_regular_1d_sum_1m_stddev_v1</th>\n      <th>agrmnt_count_credit_1m_sum_6m_stddev_v1</th>\n      <th>agrmnt_count_credit_1m_sum_6m_avg_v1</th>\n      <th>agrmnt_count_credit_transfer_1m_sum_6m_max_v1</th>\n      <th>all_prtys_ledger_balance_debit_accounts_1m_avg_v1_sanitised</th>\n      <th>agrmnt_amount_credit_1m_sum_v1_sanitised</th>\n      <th>all_prtys_ledger_balance_debit_accounts_1m_max_v1_sanitised</th>\n      <th>all_prtys_ledger_balance_debit_accounts_1m_stddev_v1_sanitised</th>\n      <th>all_prtys_ledger_balance_debit_accounts_1m_min_v1_sanitised</th>\n      <th>agrmnt_amount_debit_1d_sum_1m_avg_v1_sanitised</th>\n      <th>agrmnt_amount_credit_transfer_1m_sum_6m_stddev_v1_sanitised</th>\n      <th>agrmnt_amount_debit_cash_1m_sum_6m_avg_v1_sanitised</th>\n      <th>agrmnt_amount_credit_transfer_1m_sum_v1_sanitised</th>\n      <th>agrmnt_amount_debit_1d_sum_1m_max_v1_sanitised</th>\n      <th>agrmnt_amount_debit_cash_1m_sum_6m_stddev_v1_sanitised</th>\n      <th>agrmnt_amount_credit_transfer_1d_sum_1m_min_v1_sanitised</th>\n      <th>agrmnt_amount_debit_regular_1m_sum_6m_sum_v1_sanitised</th>\n      <th>agrmnt_amount_credit_transfer_1d_sum_1m_stddev_v1_sanitised</th>\n      <th>agrmnt_amount_credit_1m_sum_6m_stddev_v1_sanitised</th>\n      <th>agrmnt_ledger_balance_1m_stddev_v1_sanitised</th>\n      <th>agrmnt_amount_credit_transfer_1d_sum_1m_max_v1_sanitised</th>\n      <th>agrmnt_amount_debit_1d_sum_5d_max_v1_sanitised</th>\n      <th>agrmnt_amount_debit_transfer_1m_sum_v1_sanitised</th>\n      <th>agrmnt_amount_credit_cash_1m_sum_6m_sum_v1_sanitised</th>\n      <th>agrmnt_amount_debit_transfer_1d_sum_1m_stddev_v1_sanitised</th>\n      <th>agrmnt_amount_credit_1m_sum_6m_min_v1_sanitised</th>\n      <th>agrmnt_amount_debit_transfer_1d_sum_1m_min_v1_sanitised</th>\n      <th>agrmnt_amount_credit_1d_sum_1m_avg_v1_sanitised</th>\n      <th>agrmnt_amount_debit_cash_1m_sum_6m_max_v1_sanitised</th>\n      <th>agrmnt_amount_debit_regular_1m_sum_6m_max_v1_sanitised</th>\n      <th>agrmnt_amount_credit_transfer_1d_sum_1m_avg_v1_sanitised</th>\n      <th>agrmnt_amount_debit_regular_1d_sum_5d_max_v1_sanitised</th>\n      <th>agrmnt_amount_debit_point_of_sale_1d_sum_1m_stddev_v1_sanitised</th>\n      <th>agrmnt_amount_credit_1d_sum_1m_max_v1_sanitised</th>\n      <th>agrmnt_amount_credit_transfer_1m_sum_6m_max_v1_sanitised</th>\n      <th>agrmnt_amount_debit_transfer_1d_sum_1m_max_v1_sanitised</th>\n      <th>agrmnt_amount_credit_charge_or_interest_1m_sum_6m_sum_v1_sanitised</th>\n      <th>agrmnt_ledger_balance_1m_max_v1_sanitised</th>\n    </tr>\n  </thead>\n  <tbody>\n    <tr>\n      <th>0</th>\n      <td>24833</td>\n      <td>1</td>\n      <td>0.0</td>\n      <td>0</td>\n      <td>0</td>\n      <td>0</td>\n      <td>0.250000</td>\n      <td>0.0</td>\n      <td>0.000000</td>\n      <td>0</td>\n      <td>1.0</td>\n      <td>1</td>\n      <td>5417.0</td>\n      <td>5417.0</td>\n      <td>0.0</td>\n      <td>1.000000</td>\n      <td>4.0</td>\n      <td>0.500000</td>\n      <td>5417.0</td>\n      <td>0.500000</td>\n      <td>1.0</td>\n      <td>0.0</td>\n      <td>NaN</td>\n      <td>NaN</td>\n      <td>1173342</td>\n      <td>3</td>\n      <td>NaN</td>\n      <td>0.0</td>\n      <td>0.000000</td>\n      <td>0.000000</td>\n      <td>NaN</td>\n      <td>211332229.0</td>\n      <td>1.000000</td>\n      <td>NaN</td>\n      <td>0.0</td>\n      <td>0.000000</td>\n      <td>NaN</td>\n      <td>NaN</td>\n      <td>1.527525</td>\n      <td>2.333333</td>\n      <td>1.0</td>\n      <td>(-67606.448, -19600.0]</td>\n      <td>(10674.762, 14557.404]</td>\n      <td>(-33696.221, -6551.256]</td>\n      <td>(3061.09, 6053.903]</td>\n      <td>(-35674.59, -15677.9]</td>\n      <td>NaN</td>\n      <td>(5476.364, 8732.697]</td>\n      <td>NaN</td>\n      <td>(0.009000000000000001, 919.6]</td>\n      <td>NaN</td>\n      <td>NaN</td>\n      <td>(392.35, 1047.1]</td>\n      <td>NaN</td>\n      <td>NaN</td>\n      <td>(5385.229, 7687.567]</td>\n      <td>(4217.64, 10567.478]</td>\n      <td>(350.551, 600.0]</td>\n      <td>NaN</td>\n      <td>NaN</td>\n      <td>(9032.5, 15553.208]</td>\n      <td>NaN</td>\n      <td>(393.561, 1017.634]</td>\n      <td>NaN</td>\n      <td>(2723.944, 4754.962]</td>\n      <td>NaN</td>\n      <td>NaN</td>\n      <td>(374.664, 568.89]</td>\n      <td>NaN</td>\n      <td>NaN</td>\n      <td>(5500.0, 8610.0]</td>\n      <td>(8296.11, 12021.008]</td>\n      <td>NaN</td>\n      <td>(3.16, 14.24]</td>\n      <td>(-65215.153, -6538.052]</td>\n    </tr>\n    <tr>\n      <th>1</th>\n      <td>5983</td>\n      <td>0</td>\n      <td>0.0</td>\n      <td>0</td>\n      <td>1</td>\n      <td>1</td>\n      <td>1.266667</td>\n      <td>0.0</td>\n      <td>1.966384</td>\n      <td>0</td>\n      <td>10.0</td>\n      <td>14</td>\n      <td>4194.0</td>\n      <td>4194.0</td>\n      <td>5.0</td>\n      <td>1.285714</td>\n      <td>4.0</td>\n      <td>1.298351</td>\n      <td>4194.0</td>\n      <td>1.222799</td>\n      <td>1.0</td>\n      <td>0.0</td>\n      <td>82.0</td>\n      <td>405.0</td>\n      <td>1175328</td>\n      <td>74</td>\n      <td>1.0</td>\n      <td>0.0</td>\n      <td>3.430258</td>\n      <td>0.534522</td>\n      <td>6.333333</td>\n      <td>140858802.0</td>\n      <td>8.333333</td>\n      <td>3.794733</td>\n      <td>0.0</td>\n      <td>1.966384</td>\n      <td>5.0</td>\n      <td>0.447214</td>\n      <td>2.073644</td>\n      <td>8.500000</td>\n      <td>12.0</td>\n      <td>(-59.299, 445.263]</td>\n      <td>(10674.762, 14557.404]</td>\n      <td>(592.339, 2220.245]</td>\n      <td>(383.28, 663.862]</td>\n      <td>(-2457.414, -1265.438]</td>\n      <td>(618.571, 850.934]</td>\n      <td>(3608.546, 5476.364]</td>\n      <td>(1924.217, 2878.414]</td>\n      <td>(9630.384, 14007.72]</td>\n      <td>(2252.104, 3240.038]</td>\n      <td>(3833.005, 7290.463]</td>\n      <td>(392.35, 1047.1]</td>\n      <td>(1257.01, 2242.39]</td>\n      <td>(327.204, 513.688]</td>\n      <td>(3775.737, 5385.229]</td>\n      <td>(269.004, 478.453]</td>\n      <td>(1767.52, 2600.0]</td>\n      <td>(1185.172, 1720.325]</td>\n      <td>(360.0, 1000.0]</td>\n      <td>NaN</td>\n      <td>(70.338, 133.947]</td>\n      <td>(1712.974, 2548.634]</td>\n      <td>(15.0, 23.1]</td>\n      <td>(1207.001, 1770.799]</td>\n      <td>(10210.0, 19000.0]</td>\n      <td>(350.9, 586.13]</td>\n      <td>(1312.907, 2204.346]</td>\n      <td>(34.9, 59.0]</td>\n      <td>(18.415, 34.347]</td>\n      <td>(1834.274, 2655.411]</td>\n      <td>(8296.11, 12021.008]</td>\n      <td>(0.009000000000000001, 200.0]</td>\n      <td>NaN</td>\n      <td>(56.67, 1212.29]</td>\n    </tr>\n    <tr>\n      <th>2</th>\n      <td>17447</td>\n      <td>0</td>\n      <td>0.0</td>\n      <td>0</td>\n      <td>0</td>\n      <td>0</td>\n      <td>2.285714</td>\n      <td>0.0</td>\n      <td>3.076795</td>\n      <td>0</td>\n      <td>14.0</td>\n      <td>17</td>\n      <td>3216.0</td>\n      <td>3216.0</td>\n      <td>6.0</td>\n      <td>3.894737</td>\n      <td>9.0</td>\n      <td>3.853261</td>\n      <td>3216.0</td>\n      <td>1.874643</td>\n      <td>1.0</td>\n      <td>0.0</td>\n      <td>164.0</td>\n      <td>416.0</td>\n      <td>1175011</td>\n      <td>74</td>\n      <td>13.0</td>\n      <td>1.0</td>\n      <td>33.326666</td>\n      <td>2.514287</td>\n      <td>1.000000</td>\n      <td>302347111.0</td>\n      <td>30.000000</td>\n      <td>9.772410</td>\n      <td>0.0</td>\n      <td>24.681977</td>\n      <td>4.0</td>\n      <td>NaN</td>\n      <td>24.681977</td>\n      <td>30.000000</td>\n      <td>74.0</td>\n      <td>(-633.415, -282.018]</td>\n      <td>(10674.762, 14557.404]</td>\n      <td>(-27.674, -0.937]</td>\n      <td>(663.862, 1091.508]</td>\n      <td>(-4493.468, -2457.414]</td>\n      <td>(618.571, 850.934]</td>\n      <td>(3608.546, 5476.364]</td>\n      <td>(866.667, 1305.488]</td>\n      <td>(14007.72, 21485.234]</td>\n      <td>(3240.038, 4788.98]</td>\n      <td>(987.262, 1508.849]</td>\n      <td>(25.0, 46.718]</td>\n      <td>(0.009000000000000001, 55.75]</td>\n      <td>(778.622, 1224.87]</td>\n      <td>(3775.737, 5385.229]</td>\n      <td>(128.163, 269.004]</td>\n      <td>(4020.0, 6535.412]</td>\n      <td>(1185.172, 1720.325]</td>\n      <td>(6700.0, 10212.5]</td>\n      <td>NaN</td>\n      <td>(603.084, 1011.531]</td>\n      <td>(1017.634, 1712.974]</td>\n      <td>(5.0, 10.0]</td>\n      <td>(564.204, 833.826]</td>\n      <td>(2725.0, 4093.96]</td>\n      <td>(0.009000000000000001, 23.75]</td>\n      <td>(568.89, 852.503]</td>\n      <td>NaN</td>\n      <td>(167.992, 245.052]</td>\n      <td>(3900.0, 5500.0]</td>\n      <td>(12021.008, 17634.18]</td>\n      <td>(3191.18, 5097.144]</td>\n      <td>NaN</td>\n      <td>(-2.32, 0.0]</td>\n    </tr>\n    <tr>\n      <th>3</th>\n      <td>29964</td>\n      <td>1</td>\n      <td>1.0</td>\n      <td>10</td>\n      <td>10</td>\n      <td>10</td>\n      <td>6.150000</td>\n      <td>1.0</td>\n      <td>3.932768</td>\n      <td>10</td>\n      <td>48.0</td>\n      <td>48</td>\n      <td>3417.0</td>\n      <td>3417.0</td>\n      <td>16.0</td>\n      <td>4.882353</td>\n      <td>3.0</td>\n      <td>8.214877</td>\n      <td>3417.0</td>\n      <td>4.145702</td>\n      <td>1.0</td>\n      <td>0.0</td>\n      <td>518.0</td>\n      <td>2715.0</td>\n      <td>1172385</td>\n      <td>248</td>\n      <td>16.0</td>\n      <td>0.0</td>\n      <td>33.271109</td>\n      <td>3.566822</td>\n      <td>21.666667</td>\n      <td>279900052.0</td>\n      <td>71.500000</td>\n      <td>33.350662</td>\n      <td>0.0</td>\n      <td>17.896927</td>\n      <td>43.0</td>\n      <td>2.540779</td>\n      <td>20.539393</td>\n      <td>115.333333</td>\n      <td>86.0</td>\n      <td>(-7028.635, -2987.964]</td>\n      <td>(10674.762, 14557.404]</td>\n      <td>(-6551.256, -1224.922]</td>\n      <td>(663.862, 1091.508]</td>\n      <td>(-8129.495, -4493.468]</td>\n      <td>(618.571, 850.934]</td>\n      <td>(2395.549, 3608.546]</td>\n      <td>(1924.217, 2878.414]</td>\n      <td>(9630.384, 14007.72]</td>\n      <td>(1512.564, 2252.104]</td>\n      <td>(652.975, 987.262]</td>\n      <td>(8.0, 15.504]</td>\n      <td>(4047.37, 8146.56]</td>\n      <td>(513.688, 778.622]</td>\n      <td>(3775.737, 5385.229]</td>\n      <td>(478.453, 819.669]</td>\n      <td>(1767.52, 2600.0]</td>\n      <td>(1720.325, 2576.906]</td>\n      <td>(4338.578, 6700.0]</td>\n      <td>(1935.09, 4854.03]</td>\n      <td>(133.947, 258.852]</td>\n      <td>(8715.792, 19469.3]</td>\n      <td>(15.0, 23.1]</td>\n      <td>(564.204, 833.826]</td>\n      <td>(2725.0, 4093.96]</td>\n      <td>(1038.44, 2097.95]</td>\n      <td>(568.89, 852.503]</td>\n      <td>(337.41, 650.05]</td>\n      <td>(245.052, 349.666]</td>\n      <td>(2655.411, 3900.0]</td>\n      <td>(17634.18, 27149.27]</td>\n      <td>(805.252, 1218.878]</td>\n      <td>NaN</td>\n      <td>(-6538.052, -1000.0]</td>\n    </tr>\n    <tr>\n      <th>4</th>\n      <td>10883</td>\n      <td>0</td>\n      <td>0.0</td>\n      <td>0</td>\n      <td>60</td>\n      <td>60</td>\n      <td>77.190476</td>\n      <td>0.0</td>\n      <td>98.909386</td>\n      <td>0</td>\n      <td>529.0</td>\n      <td>529</td>\n      <td>1841.0</td>\n      <td>1841.0</td>\n      <td>361.0</td>\n      <td>8.761905</td>\n      <td>1.0</td>\n      <td>173.494353</td>\n      <td>1841.0</td>\n      <td>131.782252</td>\n      <td>1.0</td>\n      <td>1.0</td>\n      <td>1792.0</td>\n      <td>6790.0</td>\n      <td>1171202</td>\n      <td>2434</td>\n      <td>NaN</td>\n      <td>0.0</td>\n      <td>488.542902</td>\n      <td>4.085398</td>\n      <td>2.166667</td>\n      <td>135754830.0</td>\n      <td>140.666667</td>\n      <td>460.232405</td>\n      <td>1.0</td>\n      <td>32.684349</td>\n      <td>736.0</td>\n      <td>NaN</td>\n      <td>32.684349</td>\n      <td>140.666667</td>\n      <td>184.0</td>\n      <td>(-1409456.615, -459356.431]</td>\n      <td>(713848.701, 3559919.237]</td>\n      <td>(-124531672.501, -1019418.352]</td>\n      <td>(17208.664, 125237.569]</td>\n      <td>(-2213861.391, -824788.419]</td>\n      <td>(55399.136, 194126.553]</td>\n      <td>(244956.856, 638776.402]</td>\n      <td>NaN</td>\n      <td>(723701.28, 3529667.09]</td>\n      <td>(256798.601, 1135769.288]</td>\n      <td>NaN</td>\n      <td>(7326.006, 21709.234]</td>\n      <td>(1264564.092, 163869165.8]</td>\n      <td>(11954.183, 77113.165]</td>\n      <td>(251112.472, 703834.208]</td>\n      <td>(76295.427, 308651.251]</td>\n      <td>(34992.4, 249144.468]</td>\n      <td>(78687.679, 408446.295]</td>\n      <td>(653088.074, 3549824.541]</td>\n      <td>NaN</td>\n      <td>(105105.807, 345028.74]</td>\n      <td>(324988.037, 2510957.955]</td>\n      <td>(400.0, 1600.0]</td>\n      <td>(62976.836, 187536.788]</td>\n      <td>NaN</td>\n      <td>(314148.62, 39104610.99]</td>\n      <td>(65718.202, 187930.756]</td>\n      <td>NaN</td>\n      <td>NaN</td>\n      <td>(37000.0, 241086.097]</td>\n      <td>(931406.439, 4432141.033]</td>\n      <td>(300031.839, 1177714.641]</td>\n      <td>NaN</td>\n      <td>(-30052300.001, -313321.22]</td>\n    </tr>\n  </tbody>\n</table>\n</div>"
     },
     "execution_count": 5,
     "metadata": {},
     "output_type": "execute_result"
    }
   ],
   "source": [
    "train.head()"
   ],
   "metadata": {
    "collapsed": false,
    "pycharm": {
     "name": "#%%\n"
    }
   }
  },
  {
   "cell_type": "markdown",
   "id": "110ac2db",
   "metadata": {
    "pycharm": {
     "name": "#%% md\n"
    }
   },
   "source": [
    "## Preprocessing"
   ]
  },
  {
   "cell_type": "code",
   "execution_count": 6,
   "id": "9b2ed564",
   "metadata": {
    "pycharm": {
     "name": "#%%\n"
    }
   },
   "outputs": [],
   "source": [
    "#Take the upper limit of the range for the sanitised columns and transform columns from object to float\n",
    "for row in train.filter(like='sanitised').columns:\n",
    "    train[row] = train[row].str.split(',').str[1].str[:-1].astype(\"float\")"
   ]
  },
  {
   "cell_type": "code",
   "execution_count": 7,
   "id": "0e797586",
   "metadata": {
    "pycharm": {
     "name": "#%%\n"
    }
   },
   "outputs": [],
   "source": [
    "#Tranform object type columns to category\n",
    "for object_cols in train.select_dtypes(\"object\").columns:\n",
    "        train[object_cols] = train[object_cols].astype(\"category\")"
   ]
  },
  {
   "cell_type": "code",
   "execution_count": 8,
   "id": "3aeaaa3e",
   "metadata": {
    "pycharm": {
     "name": "#%%\n"
    }
   },
   "outputs": [],
   "source": [
    "#Select the columns to be used for modelling and create train and validation datasets\n",
    "features = [x for x in list(train.columns) if x not in ['alert_id','true_alert']]\n",
    "\n",
    "train, val = train_test_split(train, random_state=SEED, test_size=0.3)"
   ]
  },
  {
   "cell_type": "markdown",
   "id": "d05a968b",
   "metadata": {
    "pycharm": {
     "name": "#%% md\n"
    }
   },
   "source": [
    "## Modelling"
   ]
  },
  {
   "cell_type": "code",
   "execution_count": 9,
   "id": "f998d8b0",
   "metadata": {
    "pycharm": {
     "name": "#%%\n"
    }
   },
   "outputs": [],
   "source": [
    "model =  lgb.LGBMClassifier()\n",
    "\n",
    "model.fit(train[features], train['true_alert'])\n",
    "\n",
    "pred_train = model.predict(train[features])\n",
    "pred_val = model.predict(val[features])"
   ]
  },
  {
   "cell_type": "code",
   "execution_count": 10,
   "id": "6309b869",
   "metadata": {
    "pycharm": {
     "name": "#%%\n"
    }
   },
   "outputs": [
    {
     "name": "stdout",
     "output_type": "stream",
     "text": [
      "  Training Recall: 0.83\n",
      "Validation Recall: 0.75\n"
     ]
    }
   ],
   "source": [
    "print(f'  Training Recall: {recall_score(train[\"true_alert\"], pred_train):.2f}')\n",
    "print(f'Validation Recall: {recall_score(val[\"true_alert\"], pred_val):.2f}')"
   ]
  },
  {
   "cell_type": "markdown",
   "id": "2c9cd3a6",
   "metadata": {
    "pycharm": {
     "name": "#%% md\n"
    }
   },
   "source": [
    "## Scoring test data"
   ]
  },
  {
   "cell_type": "code",
   "execution_count": 11,
   "id": "9183f268",
   "metadata": {
    "pycharm": {
     "name": "#%%\n"
    }
   },
   "outputs": [],
   "source": [
    "#Apply preprocessing to the test data "
   ]
  },
  {
   "cell_type": "code",
   "execution_count": 12,
   "id": "10d0c300",
   "metadata": {
    "pycharm": {
     "name": "#%%\n"
    }
   },
   "outputs": [],
   "source": [
    "#Take the upper limit of the range for the sanitised columns and transform columns from object to float\n",
    "for row in test.filter(like='sanitised').columns:\n",
    "    test[row] = test[row].str.split(',').str[1].str[:-1].astype(\"float\")"
   ]
  },
  {
   "cell_type": "code",
   "execution_count": 13,
   "id": "001785bc",
   "metadata": {
    "pycharm": {
     "name": "#%%\n"
    }
   },
   "outputs": [],
   "source": [
    "#Tranform object type columns to category\n",
    "for object_cols in test.select_dtypes(\"object\").columns:\n",
    "        test[object_cols] = test[object_cols].astype(\"category\")"
   ]
  },
  {
   "cell_type": "code",
   "execution_count": 19,
   "id": "d355aaec",
   "metadata": {
    "pycharm": {
     "name": "#%%\n"
    }
   },
   "outputs": [],
   "source": [
    "# Score the test dataset (please do not rename this column, as the column name needs to match the label ('true_alert') to prevent mlcomp errors)\n",
    "test['true_alert'] = model.predict(test[features])"
   ]
  },
  {
   "cell_type": "markdown",
   "id": "8e765adb",
   "metadata": {
    "pycharm": {
     "name": "#%% md\n"
    }
   },
   "source": [
    "## Output submission "
   ]
  },
  {
   "cell_type": "code",
   "execution_count": 20,
   "id": "84b90b88",
   "metadata": {
    "pycharm": {
     "name": "#%%\n"
    }
   },
   "outputs": [],
   "source": [
    "#Prepare and write the submission file \n",
    "submission = test[['alert_id', 'true_alert']]\n",
    "submission.to_csv('submission.csv', index=False)"
   ]
  }
 ],
 "metadata": {
  "kernelspec": {
   "display_name": "Python 3 (ipykernel)",
   "language": "python",
   "name": "python3"
  },
  "language_info": {
   "codemirror_mode": {
    "name": "ipython",
    "version": 3
   },
   "file_extension": ".py",
   "mimetype": "text/x-python",
   "name": "python",
   "nbconvert_exporter": "python",
   "pygments_lexer": "ipython3",
   "version": "3.7.12"
  }
 },
 "nbformat": 4,
 "nbformat_minor": 5
}